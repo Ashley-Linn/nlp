{
 "cells": [
  {
   "cell_type": "code",
   "execution_count": 1,
   "metadata": {},
   "outputs": [],
   "source": [
    "import numpy as np \n",
    "import pandas as pd\n",
    "import matplotlib.pyplot as plt \n",
    "from sklearn.model_selection import train_test_split\n",
    "import seaborn as sns\n",
    "import scipy\n",
    "from collections import Counter\n",
    "from matplotlib.font_manager import FontProperties"
   ]
  },
  {
   "attachments": {},
   "cell_type": "markdown",
   "metadata": {},
   "source": [
    "# 数据探索"
   ]
  },
  {
   "cell_type": "code",
   "execution_count": 2,
   "metadata": {},
   "outputs": [],
   "source": [
    "df_train = pd.read_csv(\"D:\\\\a_lyj\\\\projects\\\\nlp\\\\text-classification\\\\project2_news_classification\\\\examples\\\\data\\\\train_set.csv\", sep=\"\\t\")\n",
    "df_test = pd.read_csv(\"D:\\\\a_lyj\\\\projects\\\\nlp\\\\text-classification\\\\project2_news_classification\\\\examples\\\\data\\\\test_a.csv\", sep=\"\\t\")\n"
   ]
  },
  {
   "attachments": {},
   "cell_type": "markdown",
   "metadata": {},
   "source": [
    "## 1、简单查看数据"
   ]
  },
  {
   "cell_type": "code",
   "execution_count": 3,
   "metadata": {},
   "outputs": [
    {
     "data": {
      "text/html": [
       "<div>\n",
       "<style scoped>\n",
       "    .dataframe tbody tr th:only-of-type {\n",
       "        vertical-align: middle;\n",
       "    }\n",
       "\n",
       "    .dataframe tbody tr th {\n",
       "        vertical-align: top;\n",
       "    }\n",
       "\n",
       "    .dataframe thead th {\n",
       "        text-align: right;\n",
       "    }\n",
       "</style>\n",
       "<table border=\"1\" class=\"dataframe\">\n",
       "  <thead>\n",
       "    <tr style=\"text-align: right;\">\n",
       "      <th></th>\n",
       "      <th>label</th>\n",
       "      <th>text</th>\n",
       "    </tr>\n",
       "  </thead>\n",
       "  <tbody>\n",
       "    <tr>\n",
       "      <th>0</th>\n",
       "      <td>2</td>\n",
       "      <td>2967 6758 339 2021 1854 3731 4109 3792 4149 15...</td>\n",
       "    </tr>\n",
       "    <tr>\n",
       "      <th>1</th>\n",
       "      <td>11</td>\n",
       "      <td>4464 486 6352 5619 2465 4802 1452 3137 5778 54...</td>\n",
       "    </tr>\n",
       "    <tr>\n",
       "      <th>2</th>\n",
       "      <td>3</td>\n",
       "      <td>7346 4068 5074 3747 5681 6093 1777 2226 7354 6...</td>\n",
       "    </tr>\n",
       "    <tr>\n",
       "      <th>3</th>\n",
       "      <td>2</td>\n",
       "      <td>7159 948 4866 2109 5520 2490 211 3956 5520 549...</td>\n",
       "    </tr>\n",
       "    <tr>\n",
       "      <th>4</th>\n",
       "      <td>3</td>\n",
       "      <td>3646 3055 3055 2490 4659 6065 3370 5814 2465 5...</td>\n",
       "    </tr>\n",
       "  </tbody>\n",
       "</table>\n",
       "</div>"
      ],
      "text/plain": [
       "   label                                               text\n",
       "0      2  2967 6758 339 2021 1854 3731 4109 3792 4149 15...\n",
       "1     11  4464 486 6352 5619 2465 4802 1452 3137 5778 54...\n",
       "2      3  7346 4068 5074 3747 5681 6093 1777 2226 7354 6...\n",
       "3      2  7159 948 4866 2109 5520 2490 211 3956 5520 549...\n",
       "4      3  3646 3055 3055 2490 4659 6065 3370 5814 2465 5..."
      ]
     },
     "execution_count": 3,
     "metadata": {},
     "output_type": "execute_result"
    }
   ],
   "source": [
    "df_train.head()"
   ]
  },
  {
   "cell_type": "code",
   "execution_count": 4,
   "metadata": {},
   "outputs": [
    {
     "data": {
      "text/plain": [
       "200000"
      ]
     },
     "execution_count": 4,
     "metadata": {},
     "output_type": "execute_result"
    }
   ],
   "source": [
    "len(df_train)"
   ]
  },
  {
   "cell_type": "code",
   "execution_count": 5,
   "metadata": {},
   "outputs": [
    {
     "data": {
      "text/plain": [
       "(5120, str)"
      ]
     },
     "execution_count": 5,
     "metadata": {},
     "output_type": "execute_result"
    }
   ],
   "source": [
    "len(df_train[\"text\"][0]), type(df_train[\"text\"][0])"
   ]
  },
  {
   "attachments": {},
   "cell_type": "markdown",
   "metadata": {},
   "source": [
    "## 2、定义一个函数，按行、以空格切分成整数列表，计算列表长度，然后查看长度数据分布特征"
   ]
  },
  {
   "cell_type": "code",
   "execution_count": 6,
   "metadata": {},
   "outputs": [
    {
     "data": {
      "text/plain": [
       "(array([1057,  486,  764, ..., 1180,  179, 2098], shape=(200000,)),\n",
       " array([ 607, 1861,  901, ...,  299,  470,  245], shape=(50000,)))"
      ]
     },
     "execution_count": 6,
     "metadata": {},
     "output_type": "execute_result"
    }
   ],
   "source": [
    "def split_df(df_row):\n",
    "    return len(str(df_row).split())\n",
    "\n",
    "len_dist = np.vectorize(split_df)(df_train[\"text\"])\n",
    "len_test_dist = np.vectorize(split_df)(df_test[\"text\"])\n",
    "len_dist, len_test_dist"
   ]
  },
  {
   "attachments": {},
   "cell_type": "markdown",
   "metadata": {},
   "source": [
    "（1）使用describe函数查看训练集、测试集中的数据长度分布\n",
    "\n",
    "结论：从25%、50%、75%结果来看，训练集、测试集数据分布一致"
   ]
  },
  {
   "cell_type": "code",
   "execution_count": 7,
   "metadata": {},
   "outputs": [
    {
     "data": {
      "text/plain": [
       "count    200000.000000\n",
       "mean        907.207110\n",
       "std         996.029036\n",
       "min           2.000000\n",
       "25%         374.000000\n",
       "50%         676.000000\n",
       "75%        1131.000000\n",
       "max       57921.000000\n",
       "dtype: float64"
      ]
     },
     "execution_count": 7,
     "metadata": {},
     "output_type": "execute_result"
    }
   ],
   "source": [
    "pd.Series(len_dist).describe()"
   ]
  },
  {
   "cell_type": "code",
   "execution_count": 8,
   "metadata": {},
   "outputs": [
    {
     "data": {
      "text/plain": [
       "count    50000.000000\n",
       "mean       909.844960\n",
       "std       1032.313375\n",
       "min         14.000000\n",
       "25%        370.000000\n",
       "50%        676.000000\n",
       "75%       1133.000000\n",
       "max      41861.000000\n",
       "dtype: float64"
      ]
     },
     "execution_count": 8,
     "metadata": {},
     "output_type": "execute_result"
    }
   ],
   "source": [
    "pd.Series(len_test_dist).describe()\n"
   ]
  },
  {
   "attachments": {},
   "cell_type": "markdown",
   "metadata": {},
   "source": [
    "（2）通过直方图查看(频次、概率密度)"
   ]
  },
  {
   "cell_type": "code",
   "execution_count": 9,
   "metadata": {},
   "outputs": [
    {
     "data": {
      "image/png": "[encoded data removed]",
      "text/plain": [
       "<Figure size 1200x600 with 1 Axes>"
      ]
     },
     "metadata": {},
     "output_type": "display_data"
    }
   ],
   "source": [
    "# 1. 创建图表和坐标轴\n",
    "fig, ax = plt.subplots(1, 1, figsize=(12, 6))\n",
    "\n",
    "# 2. 在同一个坐标轴上叠加直方图\n",
    "ax = plt.hist(x=len_dist, bins=100)\n",
    "ax = plt.hist(x=len_test_dist, bins=100)\n",
    "\n",
    "# 3. 设置图表属性\n",
    "plt.xlim([0, max(max(len_dist), max(len_test_dist))])\n",
    "plt.xlabel(\"length of sample\")\n",
    "plt.ylabel(\"number of sample\")\n",
    "plt.legend([\"train_len\", \"test_len\"])\n",
    "\n",
    "plt.show()"
   ]
  },
  {
   "cell_type": "code",
   "execution_count": 10,
   "metadata": {},
   "outputs": [
    {
     "data": {
      "text/plain": [
       "<matplotlib.legend.Legend at 0x1c4c7486060>"
      ]
     },
     "execution_count": 10,
     "metadata": {},
     "output_type": "execute_result"
    },
    {
     "data": {
      "image/png": "[encoded data removed]",
      "text/plain": [
       "<Figure size 1500x500 with 1 Axes>"
      ]
     },
     "metadata": {},
     "output_type": "display_data"
    }
   ],
   "source": [
    "plt.figure(figsize=(15,5))\n",
    "ax = sns.histplot(len_dist, bins=100, kde=True, stat=\"density\")\n",
    "ax = sns.histplot(len_test_dist, bins=100, kde=True, stat=\"density\")\n",
    "plt.xlim([0, max(max(len_dist), max(len_test_dist))])\n",
    "plt.xlabel(\"length of sample\")\n",
    "plt.ylabel(\"prob of sample\")\n",
    "plt.legend(['train_len','test_len'])\n"
   ]
  },
  {
   "attachments": {},
   "cell_type": "markdown",
   "metadata": {},
   "source": [
    "（3）同分布验证（训练集、验证集）\n",
    "\n",
    "scipy.stats.ks_2samp 是 SciPy 库中用于执行 两样本 Kolmogorov-Smirnov 检验（简称 KS 检验）的函数，主要用于判断两个样本是否来自相同的概率分布。以下是详细解释：\n",
    "\n",
    "功能说明\n",
    "\n",
    "两样本 KS 检验通过比较两个样本的经验累积分布函数（ECDF），计算它们之间的最大差异（即 KS 统计量），并通过这个差异判断两个样本是否来自同一分布。\n",
    "\n",
    "原假设（H₀）：两个样本来自相同的概率分布。\n",
    "备择假设（H₁）：两个样本来自不同的概率分布。\n",
    "\n",
    "返回值\n",
    "\n",
    "statistic（KS 统计量）：两个样本的经验累积分布函数之间的最大差值，范围在 [0, 1]。值越大，说明两个分布差异越明显。\n",
    "pvalue（P 值）：假设检验的 P 值，用于判断是否拒绝原假设。\n",
    "\n",
    "结果解读\n",
    "\n",
    "P 值判断：\n",
    "若 pvalue < 显著性水平（通常取 0.05）：拒绝原假设，认为两个样本来自不同的分布。\n",
    "若 pvalue ≥ 0.05：不拒绝原假设，认为两个样本可能来自相同的分布。\n",
    "\n",
    "KS 统计量参考：\n",
    "统计量越接近 0，两个分布越相似；越接近 1，差异越大。但最终判断以 P 值为主。"
   ]
  },
  {
   "cell_type": "code",
   "execution_count": 11,
   "metadata": {},
   "outputs": [
    {
     "data": {
      "text/plain": [
       "(np.float64(0.004049999999999998), np.float64(0.5266238207785701))"
      ]
     },
     "execution_count": 11,
     "metadata": {},
     "output_type": "execute_result"
    }
   ],
   "source": [
    "from scipy import stats\n",
    "\n",
    "statistic, pvalue = stats.ks_2samp(len_dist, len_test_dist)\n",
    "statistic, pvalue"
   ]
  },
  {
   "attachments": {},
   "cell_type": "markdown",
   "metadata": {},
   "source": [
    "（4）正态分布验证（数据集本身）\n",
    "\n",
    "（原有数据是长尾分布，做对数转换后再看分布，如果转换后数据是正态分布，即可利用3sigama原则去掉异常数据）\n",
    "\n",
    "考虑到数据长度分布是长尾分布，log一下看看是不是正态分布，如果是正态分布，使用3sigma法则作为截断的参考。如果不是，则就只能瞎猜了\n",
    "\n",
    "测量拟合分布的均值和方差sigma原则：\n",
    "\n",
    "        1σ原则：数值分布在(μ-σ,μ+σ)中的概率为0.6526；\n",
    "\n",
    "        2σ原则：数值分布在(μ-2σ,μ+2σ)中的概率为0.9544；\n",
    "\n",
    "        3σ原则：数值分布在(μ-3σ,μ+3σ)中的概率为0.9974；\n",
    "\n",
    "由于“小概率事件”和假设检验的基本思想 “小概率事件”通常指发生的概率小于5%的事件，认为在一次试验中该事件是几乎不可能发生的。由此可见X落在(μ-3σ,μ+3σ)以外的概率小于千分之三，在实际问题中常认为相应的事件是不会发生的，基本上可以把区间(μ-3σ,μ+3σ)看作是随机变量X实际可能的取值区间，这称之为正态分布的“3σ”原则。"
   ]
  },
  {
   "cell_type": "code",
   "execution_count": 13,
   "metadata": {},
   "outputs": [
    {
     "data": {
      "text/plain": [
       "<matplotlib.legend.Legend at 0x1c4c8acd550>"
      ]
     },
     "execution_count": 13,
     "metadata": {},
     "output_type": "execute_result"
    },
    {
     "data": {
      "image/png": "[encoded data removed]",
      "text/plain": [
       "<Figure size 1500x500 with 1 Axes>"
      ]
     },
     "metadata": {},
     "output_type": "display_data"
    }
   ],
   "source": [
    "log_len_dist = np.log(1+len_dist)\n",
    "log_len_test_dist = np.log(1+len_test_dist)\n",
    "plt.figure(figsize=(15,5))\n",
    "ax = sns.histplot(log_len_dist, bins=100, kde=True, stat=\"density\")\n",
    "ax = sns.histplot(log_len_test_dist, bins=100, kde=True, stat=\"density\")\n",
    "plt.xlabel(\"length of sample\")\n",
    "plt.ylabel(\"prob of sample\")\n",
    "plt.legend(['train_len','test_len'])\n",
    "\n"
   ]
  },
  {
   "cell_type": "code",
   "execution_count": 14,
   "metadata": {},
   "outputs": [
    {
     "data": {
      "text/plain": [
       "np.float64(0.0)"
      ]
     },
     "execution_count": 14,
     "metadata": {},
     "output_type": "execute_result"
    }
   ],
   "source": [
    "_, lognormal_ks_pvalue = stats.kstest(rvs=log_len_dist, cdf=\"norm\")\n",
    "lognormal_ks_pvalue"
   ]
  },
  {
   "attachments": {},
   "cell_type": "markdown",
   "metadata": {},
   "source": [
    "lognormal_ks_pvalue 是通过 K-S 检验（Kolmogorov-Smirnov 检验） 得到的 P 值，用于判断 log_len_dist 这个数据是否符合正态分布。\n",
    "\n",
    "具体解释：\n",
    "\n",
    "K-S 检验的作用\n",
    "\n",
    "代码中 stats.kstest(rvs=log_len_dist, cdf=\"norm\") 是在做一个假设检验：\n",
    "\n",
    "    原假设（H₀）：log_len_dist 这个数据样本服从 正态分布（cdf=\"norm\" 指定了参考的理论分布是正态分布）。\n",
    "\n",
    "    备择假设（H₁）：log_len_dist 不服从正态分布。\n",
    "\n",
    "P 值（lognormal_ks_pvalue）的含义\n",
    "\n",
    "\n",
    "P 值表示：在原假设成立的前提下，观察到当前数据（或更极端数据）的概率。\n",
    "\n",
    "如果 lognormal_ks_pvalue 较大（如 > 0.05）：\n",
    "说明在 “数据服从正态分布” 的假设下，当前数据出现的概率较高，没有足够证据拒绝原假设，可以认为数据近似符合正态分布。\n",
    "\n",
    "如果 lognormal_ks_pvalue 较小（如 < 0.05）：\n",
    "说明在 “数据服从正态分布” 的假设下，当前数据出现的概率极低（属于 “小概率事件”），有足够证据拒绝原假设，即数据不符合正态分布。"
   ]
  },
  {
   "cell_type": "code",
   "execution_count": 24,
   "metadata": {},
   "outputs": [
    {
     "data": {
      "text/plain": [
       "(np.float64(1347.7935885398067), np.float64(2.1396408275457613e-293))"
      ]
     },
     "execution_count": 24,
     "metadata": {},
     "output_type": "execute_result"
    }
   ],
   "source": [
    "trans_data, lam = stats.boxcox(len_dist+1)\n",
    "statistic, pvalue = stats.normaltest(trans_data)\n",
    "statistic, pvalue "
   ]
  },
  {
   "attachments": {},
   "cell_type": "markdown",
   "metadata": {},
   "source": [
    "总结：数据不符合正态分布，理论上无法应用正态分布的3sigma原则进行异常数据截断\n",
    "\n",
    "但总归是要猜一个截断值的。看log图上8.5的位置比较靠谱。np.exp(8.5)=4914约等于5000，因此我初步决定把截断长度定为5000。"
   ]
  },
  {
   "attachments": {},
   "cell_type": "markdown",
   "metadata": {},
   "source": [
    "## 3、类别信息"
   ]
  },
  {
   "attachments": {},
   "cell_type": "markdown",
   "metadata": {},
   "source": [
    "简单查看类别信息表\n",
    "\n",
    "先改造一下df_train，多加几个字段，分别是：\n",
    "\n",
    "text-split，将text字段分词\n",
    "\n",
    "len，每条新闻长度\n",
    "\n",
    "first_char，新闻第一个字符\n",
    "\n",
    "last_char，新闻最后一个字符\n",
    "\n",
    "most_freq，新闻最常出现的字符"
   ]
  },
  {
   "cell_type": "code",
   "execution_count": 26,
   "metadata": {},
   "outputs": [
    {
     "name": "stderr",
     "output_type": "stream",
     "text": [
      "C:\\Users\\Administrator\\AppData\\Local\\Temp\\ipykernel_5488\\1519566339.py:5: DeprecationWarning: Non-integer input passed to bincount. In a future version of NumPy, this will be an error. (Deprecated NumPy 2.1)\n",
      "  df_train[\"most_freq\"] = df_train[\"text_split\"].apply(lambda x: np.argmax(np.bincount(x)))\n"
     ]
    },
    {
     "data": {
      "text/html": [
       "<div>\n",
       "<style scoped>\n",
       "    .dataframe tbody tr th:only-of-type {\n",
       "        vertical-align: middle;\n",
       "    }\n",
       "\n",
       "    .dataframe tbody tr th {\n",
       "        vertical-align: top;\n",
       "    }\n",
       "\n",
       "    .dataframe thead th {\n",
       "        text-align: right;\n",
       "    }\n",
       "</style>\n",
       "<table border=\"1\" class=\"dataframe\">\n",
       "  <thead>\n",
       "    <tr style=\"text-align: right;\">\n",
       "      <th></th>\n",
       "      <th>label</th>\n",
       "      <th>text</th>\n",
       "      <th>text_split</th>\n",
       "      <th>len</th>\n",
       "      <th>first_char</th>\n",
       "      <th>last_char</th>\n",
       "      <th>most_freq</th>\n",
       "    </tr>\n",
       "  </thead>\n",
       "  <tbody>\n",
       "    <tr>\n",
       "      <th>0</th>\n",
       "      <td>2</td>\n",
       "      <td>2967 6758 339 2021 1854 3731 4109 3792 4149 15...</td>\n",
       "      <td>[2967, 6758, 339, 2021, 1854, 3731, 4109, 3792...</td>\n",
       "      <td>1057</td>\n",
       "      <td>2967</td>\n",
       "      <td>1635</td>\n",
       "      <td>3750</td>\n",
       "    </tr>\n",
       "    <tr>\n",
       "      <th>1</th>\n",
       "      <td>11</td>\n",
       "      <td>4464 486 6352 5619 2465 4802 1452 3137 5778 54...</td>\n",
       "      <td>[4464, 486, 6352, 5619, 2465, 4802, 1452, 3137...</td>\n",
       "      <td>486</td>\n",
       "      <td>4464</td>\n",
       "      <td>900</td>\n",
       "      <td>3750</td>\n",
       "    </tr>\n",
       "    <tr>\n",
       "      <th>2</th>\n",
       "      <td>3</td>\n",
       "      <td>7346 4068 5074 3747 5681 6093 1777 2226 7354 6...</td>\n",
       "      <td>[7346, 4068, 5074, 3747, 5681, 6093, 1777, 222...</td>\n",
       "      <td>764</td>\n",
       "      <td>7346</td>\n",
       "      <td>57</td>\n",
       "      <td>3750</td>\n",
       "    </tr>\n",
       "    <tr>\n",
       "      <th>3</th>\n",
       "      <td>2</td>\n",
       "      <td>7159 948 4866 2109 5520 2490 211 3956 5520 549...</td>\n",
       "      <td>[7159, 948, 4866, 2109, 5520, 2490, 211, 3956,...</td>\n",
       "      <td>1570</td>\n",
       "      <td>7159</td>\n",
       "      <td>2662</td>\n",
       "      <td>3750</td>\n",
       "    </tr>\n",
       "    <tr>\n",
       "      <th>4</th>\n",
       "      <td>3</td>\n",
       "      <td>3646 3055 3055 2490 4659 6065 3370 5814 2465 5...</td>\n",
       "      <td>[3646, 3055, 3055, 2490, 4659, 6065, 3370, 581...</td>\n",
       "      <td>307</td>\n",
       "      <td>3646</td>\n",
       "      <td>1635</td>\n",
       "      <td>3055</td>\n",
       "    </tr>\n",
       "  </tbody>\n",
       "</table>\n",
       "</div>"
      ],
      "text/plain": [
       "   label                                               text  \\\n",
       "0      2  2967 6758 339 2021 1854 3731 4109 3792 4149 15...   \n",
       "1     11  4464 486 6352 5619 2465 4802 1452 3137 5778 54...   \n",
       "2      3  7346 4068 5074 3747 5681 6093 1777 2226 7354 6...   \n",
       "3      2  7159 948 4866 2109 5520 2490 211 3956 5520 549...   \n",
       "4      3  3646 3055 3055 2490 4659 6065 3370 5814 2465 5...   \n",
       "\n",
       "                                          text_split   len first_char  \\\n",
       "0  [2967, 6758, 339, 2021, 1854, 3731, 4109, 3792...  1057       2967   \n",
       "1  [4464, 486, 6352, 5619, 2465, 4802, 1452, 3137...   486       4464   \n",
       "2  [7346, 4068, 5074, 3747, 5681, 6093, 1777, 222...   764       7346   \n",
       "3  [7159, 948, 4866, 2109, 5520, 2490, 211, 3956,...  1570       7159   \n",
       "4  [3646, 3055, 3055, 2490, 4659, 6065, 3370, 581...   307       3646   \n",
       "\n",
       "  last_char  most_freq  \n",
       "0      1635       3750  \n",
       "1       900       3750  \n",
       "2        57       3750  \n",
       "3      2662       3750  \n",
       "4      1635       3055  "
      ]
     },
     "execution_count": 26,
     "metadata": {},
     "output_type": "execute_result"
    }
   ],
   "source": [
    "df_train[\"text_split\"] = df_train[\"text\"].apply(lambda x: x.split())\n",
    "df_train[\"len\"] = df_train[\"text\"].apply(lambda x: len(x.split()))\n",
    "df_train[\"first_char\"] = df_train[\"text_split\"].apply(lambda x: x[0])\n",
    "df_train[\"last_char\"] = df_train[\"text_split\"].apply(lambda x: x[-1])\n",
    "df_train[\"most_freq\"] = df_train[\"text_split\"].apply(lambda x: np.argmax(np.bincount(x)))\n",
    "df_train.head()"
   ]
  },
  {
   "attachments": {},
   "cell_type": "markdown",
   "metadata": {},
   "source": [
    "构建一个类别信息表。\n",
    "\n",
    "count，该类别新闻个数\n",
    "\n",
    "len_mean，该类别新闻平均长度\n",
    "\n",
    "len_std，该类别新闻长度标准差\n",
    "\n",
    "len_min，该类别新闻长度最小值\n",
    "\n",
    "len_max，该类别新闻长度最大值\n",
    "\n",
    "freq_fc，该类别新闻最常出现的第一个字符\n",
    "\n",
    "freq_lc，该类别新闻最常出现的最后一个字符\n",
    "\n",
    "freq_freq，该类别新闻最常出现的字符"
   ]
  },
  {
   "cell_type": "code",
   "execution_count": 29,
   "metadata": {},
   "outputs": [
    {
     "name": "stderr",
     "output_type": "stream",
     "text": [
      "C:\\Users\\Administrator\\AppData\\Local\\Temp\\ipykernel_5488\\2060996542.py:8: DeprecationWarning: Non-integer input passed to bincount. In a future version of NumPy, this will be an error. (Deprecated NumPy 2.1)\n",
      "  freq_fc = np.argmax(np.bincount(group[\"first_char\"]))\n",
      "C:\\Users\\Administrator\\AppData\\Local\\Temp\\ipykernel_5488\\2060996542.py:9: DeprecationWarning: Non-integer input passed to bincount. In a future version of NumPy, this will be an error. (Deprecated NumPy 2.1)\n",
      "  freq_lc = np.argmax(np.bincount(group[\"last_char\"]))\n",
      "C:\\Users\\Administrator\\AppData\\Local\\Temp\\ipykernel_5488\\2060996542.py:8: DeprecationWarning: Non-integer input passed to bincount. In a future version of NumPy, this will be an error. (Deprecated NumPy 2.1)\n",
      "  freq_fc = np.argmax(np.bincount(group[\"first_char\"]))\n",
      "C:\\Users\\Administrator\\AppData\\Local\\Temp\\ipykernel_5488\\2060996542.py:9: DeprecationWarning: Non-integer input passed to bincount. In a future version of NumPy, this will be an error. (Deprecated NumPy 2.1)\n",
      "  freq_lc = np.argmax(np.bincount(group[\"last_char\"]))\n",
      "C:\\Users\\Administrator\\AppData\\Local\\Temp\\ipykernel_5488\\2060996542.py:8: DeprecationWarning: Non-integer input passed to bincount. In a future version of NumPy, this will be an error. (Deprecated NumPy 2.1)\n",
      "  freq_fc = np.argmax(np.bincount(group[\"first_char\"]))\n",
      "C:\\Users\\Administrator\\AppData\\Local\\Temp\\ipykernel_5488\\2060996542.py:9: DeprecationWarning: Non-integer input passed to bincount. In a future version of NumPy, this will be an error. (Deprecated NumPy 2.1)\n",
      "  freq_lc = np.argmax(np.bincount(group[\"last_char\"]))\n",
      "C:\\Users\\Administrator\\AppData\\Local\\Temp\\ipykernel_5488\\2060996542.py:8: DeprecationWarning: Non-integer input passed to bincount. In a future version of NumPy, this will be an error. (Deprecated NumPy 2.1)\n",
      "  freq_fc = np.argmax(np.bincount(group[\"first_char\"]))\n",
      "C:\\Users\\Administrator\\AppData\\Local\\Temp\\ipykernel_5488\\2060996542.py:9: DeprecationWarning: Non-integer input passed to bincount. In a future version of NumPy, this will be an error. (Deprecated NumPy 2.1)\n",
      "  freq_lc = np.argmax(np.bincount(group[\"last_char\"]))\n",
      "C:\\Users\\Administrator\\AppData\\Local\\Temp\\ipykernel_5488\\2060996542.py:8: DeprecationWarning: Non-integer input passed to bincount. In a future version of NumPy, this will be an error. (Deprecated NumPy 2.1)\n",
      "  freq_fc = np.argmax(np.bincount(group[\"first_char\"]))\n",
      "C:\\Users\\Administrator\\AppData\\Local\\Temp\\ipykernel_5488\\2060996542.py:9: DeprecationWarning: Non-integer input passed to bincount. In a future version of NumPy, this will be an error. (Deprecated NumPy 2.1)\n",
      "  freq_lc = np.argmax(np.bincount(group[\"last_char\"]))\n",
      "C:\\Users\\Administrator\\AppData\\Local\\Temp\\ipykernel_5488\\2060996542.py:8: DeprecationWarning: Non-integer input passed to bincount. In a future version of NumPy, this will be an error. (Deprecated NumPy 2.1)\n",
      "  freq_fc = np.argmax(np.bincount(group[\"first_char\"]))\n",
      "C:\\Users\\Administrator\\AppData\\Local\\Temp\\ipykernel_5488\\2060996542.py:9: DeprecationWarning: Non-integer input passed to bincount. In a future version of NumPy, this will be an error. (Deprecated NumPy 2.1)\n",
      "  freq_lc = np.argmax(np.bincount(group[\"last_char\"]))\n",
      "C:\\Users\\Administrator\\AppData\\Local\\Temp\\ipykernel_5488\\2060996542.py:8: DeprecationWarning: Non-integer input passed to bincount. In a future version of NumPy, this will be an error. (Deprecated NumPy 2.1)\n",
      "  freq_fc = np.argmax(np.bincount(group[\"first_char\"]))\n",
      "C:\\Users\\Administrator\\AppData\\Local\\Temp\\ipykernel_5488\\2060996542.py:9: DeprecationWarning: Non-integer input passed to bincount. In a future version of NumPy, this will be an error. (Deprecated NumPy 2.1)\n",
      "  freq_lc = np.argmax(np.bincount(group[\"last_char\"]))\n",
      "C:\\Users\\Administrator\\AppData\\Local\\Temp\\ipykernel_5488\\2060996542.py:8: DeprecationWarning: Non-integer input passed to bincount. In a future version of NumPy, this will be an error. (Deprecated NumPy 2.1)\n",
      "  freq_fc = np.argmax(np.bincount(group[\"first_char\"]))\n",
      "C:\\Users\\Administrator\\AppData\\Local\\Temp\\ipykernel_5488\\2060996542.py:9: DeprecationWarning: Non-integer input passed to bincount. In a future version of NumPy, this will be an error. (Deprecated NumPy 2.1)\n",
      "  freq_lc = np.argmax(np.bincount(group[\"last_char\"]))\n",
      "C:\\Users\\Administrator\\AppData\\Local\\Temp\\ipykernel_5488\\2060996542.py:8: DeprecationWarning: Non-integer input passed to bincount. In a future version of NumPy, this will be an error. (Deprecated NumPy 2.1)\n",
      "  freq_fc = np.argmax(np.bincount(group[\"first_char\"]))\n",
      "C:\\Users\\Administrator\\AppData\\Local\\Temp\\ipykernel_5488\\2060996542.py:9: DeprecationWarning: Non-integer input passed to bincount. In a future version of NumPy, this will be an error. (Deprecated NumPy 2.1)\n",
      "  freq_lc = np.argmax(np.bincount(group[\"last_char\"]))\n",
      "C:\\Users\\Administrator\\AppData\\Local\\Temp\\ipykernel_5488\\2060996542.py:8: DeprecationWarning: Non-integer input passed to bincount. In a future version of NumPy, this will be an error. (Deprecated NumPy 2.1)\n",
      "  freq_fc = np.argmax(np.bincount(group[\"first_char\"]))\n",
      "C:\\Users\\Administrator\\AppData\\Local\\Temp\\ipykernel_5488\\2060996542.py:9: DeprecationWarning: Non-integer input passed to bincount. In a future version of NumPy, this will be an error. (Deprecated NumPy 2.1)\n",
      "  freq_lc = np.argmax(np.bincount(group[\"last_char\"]))\n",
      "C:\\Users\\Administrator\\AppData\\Local\\Temp\\ipykernel_5488\\2060996542.py:8: DeprecationWarning: Non-integer input passed to bincount. In a future version of NumPy, this will be an error. (Deprecated NumPy 2.1)\n",
      "  freq_fc = np.argmax(np.bincount(group[\"first_char\"]))\n",
      "C:\\Users\\Administrator\\AppData\\Local\\Temp\\ipykernel_5488\\2060996542.py:9: DeprecationWarning: Non-integer input passed to bincount. In a future version of NumPy, this will be an error. (Deprecated NumPy 2.1)\n",
      "  freq_lc = np.argmax(np.bincount(group[\"last_char\"]))\n",
      "C:\\Users\\Administrator\\AppData\\Local\\Temp\\ipykernel_5488\\2060996542.py:8: DeprecationWarning: Non-integer input passed to bincount. In a future version of NumPy, this will be an error. (Deprecated NumPy 2.1)\n",
      "  freq_fc = np.argmax(np.bincount(group[\"first_char\"]))\n",
      "C:\\Users\\Administrator\\AppData\\Local\\Temp\\ipykernel_5488\\2060996542.py:9: DeprecationWarning: Non-integer input passed to bincount. In a future version of NumPy, this will be an error. (Deprecated NumPy 2.1)\n",
      "  freq_lc = np.argmax(np.bincount(group[\"last_char\"]))\n",
      "C:\\Users\\Administrator\\AppData\\Local\\Temp\\ipykernel_5488\\2060996542.py:8: DeprecationWarning: Non-integer input passed to bincount. In a future version of NumPy, this will be an error. (Deprecated NumPy 2.1)\n",
      "  freq_fc = np.argmax(np.bincount(group[\"first_char\"]))\n",
      "C:\\Users\\Administrator\\AppData\\Local\\Temp\\ipykernel_5488\\2060996542.py:9: DeprecationWarning: Non-integer input passed to bincount. In a future version of NumPy, this will be an error. (Deprecated NumPy 2.1)\n",
      "  freq_lc = np.argmax(np.bincount(group[\"last_char\"]))\n",
      "C:\\Users\\Administrator\\AppData\\Local\\Temp\\ipykernel_5488\\2060996542.py:8: DeprecationWarning: Non-integer input passed to bincount. In a future version of NumPy, this will be an error. (Deprecated NumPy 2.1)\n",
      "  freq_fc = np.argmax(np.bincount(group[\"first_char\"]))\n",
      "C:\\Users\\Administrator\\AppData\\Local\\Temp\\ipykernel_5488\\2060996542.py:9: DeprecationWarning: Non-integer input passed to bincount. In a future version of NumPy, this will be an error. (Deprecated NumPy 2.1)\n",
      "  freq_lc = np.argmax(np.bincount(group[\"last_char\"]))\n"
     ]
    },
    {
     "data": {
      "text/html": [
       "<div>\n",
       "<style scoped>\n",
       "    .dataframe tbody tr th:only-of-type {\n",
       "        vertical-align: middle;\n",
       "    }\n",
       "\n",
       "    .dataframe tbody tr th {\n",
       "        vertical-align: top;\n",
       "    }\n",
       "\n",
       "    .dataframe thead th {\n",
       "        text-align: right;\n",
       "    }\n",
       "</style>\n",
       "<table border=\"1\" class=\"dataframe\">\n",
       "  <thead>\n",
       "    <tr style=\"text-align: right;\">\n",
       "      <th></th>\n",
       "      <th>count</th>\n",
       "      <th>len_mean</th>\n",
       "      <th>len_std</th>\n",
       "      <th>len_min</th>\n",
       "      <th>len_max</th>\n",
       "      <th>freq_fc</th>\n",
       "      <th>freq_lc</th>\n",
       "      <th>freq_freq</th>\n",
       "    </tr>\n",
       "  </thead>\n",
       "  <tbody>\n",
       "    <tr>\n",
       "      <th>0</th>\n",
       "      <td>38918.0</td>\n",
       "      <td>878.717663</td>\n",
       "      <td>859.302990</td>\n",
       "      <td>12.0</td>\n",
       "      <td>18587.0</td>\n",
       "      <td>2400.0</td>\n",
       "      <td>900.0</td>\n",
       "      <td>3750.0</td>\n",
       "    </tr>\n",
       "    <tr>\n",
       "      <th>1</th>\n",
       "      <td>36945.0</td>\n",
       "      <td>870.363676</td>\n",
       "      <td>1451.060541</td>\n",
       "      <td>9.0</td>\n",
       "      <td>57921.0</td>\n",
       "      <td>1141.0</td>\n",
       "      <td>900.0</td>\n",
       "      <td>3750.0</td>\n",
       "    </tr>\n",
       "    <tr>\n",
       "      <th>2</th>\n",
       "      <td>31425.0</td>\n",
       "      <td>1014.429562</td>\n",
       "      <td>737.313693</td>\n",
       "      <td>2.0</td>\n",
       "      <td>41894.0</td>\n",
       "      <td>1580.0</td>\n",
       "      <td>2662.0</td>\n",
       "      <td>3750.0</td>\n",
       "    </tr>\n",
       "    <tr>\n",
       "      <th>3</th>\n",
       "      <td>22133.0</td>\n",
       "      <td>784.774726</td>\n",
       "      <td>739.347231</td>\n",
       "      <td>17.0</td>\n",
       "      <td>10817.0</td>\n",
       "      <td>7346.0</td>\n",
       "      <td>900.0</td>\n",
       "      <td>3750.0</td>\n",
       "    </tr>\n",
       "    <tr>\n",
       "      <th>4</th>\n",
       "      <td>15016.0</td>\n",
       "      <td>649.705647</td>\n",
       "      <td>718.689556</td>\n",
       "      <td>25.0</td>\n",
       "      <td>14928.0</td>\n",
       "      <td>1141.0</td>\n",
       "      <td>900.0</td>\n",
       "      <td>3750.0</td>\n",
       "    </tr>\n",
       "    <tr>\n",
       "      <th>5</th>\n",
       "      <td>12232.0</td>\n",
       "      <td>1116.054938</td>\n",
       "      <td>910.002484</td>\n",
       "      <td>27.0</td>\n",
       "      <td>15839.0</td>\n",
       "      <td>5744.0</td>\n",
       "      <td>900.0</td>\n",
       "      <td>3750.0</td>\n",
       "    </tr>\n",
       "    <tr>\n",
       "      <th>6</th>\n",
       "      <td>9985.0</td>\n",
       "      <td>1249.114071</td>\n",
       "      <td>1203.464887</td>\n",
       "      <td>16.0</td>\n",
       "      <td>25728.0</td>\n",
       "      <td>3659.0</td>\n",
       "      <td>900.0</td>\n",
       "      <td>3750.0</td>\n",
       "    </tr>\n",
       "    <tr>\n",
       "      <th>7</th>\n",
       "      <td>8841.0</td>\n",
       "      <td>1157.883271</td>\n",
       "      <td>942.048602</td>\n",
       "      <td>11.0</td>\n",
       "      <td>14469.0</td>\n",
       "      <td>6835.0</td>\n",
       "      <td>900.0</td>\n",
       "      <td>3750.0</td>\n",
       "    </tr>\n",
       "    <tr>\n",
       "      <th>8</th>\n",
       "      <td>7847.0</td>\n",
       "      <td>712.401172</td>\n",
       "      <td>898.704321</td>\n",
       "      <td>7.0</td>\n",
       "      <td>15271.0</td>\n",
       "      <td>913.0</td>\n",
       "      <td>900.0</td>\n",
       "      <td>3750.0</td>\n",
       "    </tr>\n",
       "    <tr>\n",
       "      <th>9</th>\n",
       "      <td>5878.0</td>\n",
       "      <td>833.627084</td>\n",
       "      <td>739.593276</td>\n",
       "      <td>17.0</td>\n",
       "      <td>23866.0</td>\n",
       "      <td>7346.0</td>\n",
       "      <td>900.0</td>\n",
       "      <td>3750.0</td>\n",
       "    </tr>\n",
       "    <tr>\n",
       "      <th>10</th>\n",
       "      <td>4920.0</td>\n",
       "      <td>911.138008</td>\n",
       "      <td>958.311796</td>\n",
       "      <td>14.0</td>\n",
       "      <td>20622.0</td>\n",
       "      <td>3523.0</td>\n",
       "      <td>885.0</td>\n",
       "      <td>3750.0</td>\n",
       "    </tr>\n",
       "    <tr>\n",
       "      <th>11</th>\n",
       "      <td>3131.0</td>\n",
       "      <td>608.889812</td>\n",
       "      <td>509.755296</td>\n",
       "      <td>21.0</td>\n",
       "      <td>5729.0</td>\n",
       "      <td>6811.0</td>\n",
       "      <td>900.0</td>\n",
       "      <td>3750.0</td>\n",
       "    </tr>\n",
       "    <tr>\n",
       "      <th>12</th>\n",
       "      <td>1821.0</td>\n",
       "      <td>1194.969248</td>\n",
       "      <td>1108.697967</td>\n",
       "      <td>25.0</td>\n",
       "      <td>8737.0</td>\n",
       "      <td>5006.0</td>\n",
       "      <td>900.0</td>\n",
       "      <td>3750.0</td>\n",
       "    </tr>\n",
       "    <tr>\n",
       "      <th>13</th>\n",
       "      <td>908.0</td>\n",
       "      <td>735.325991</td>\n",
       "      <td>795.676666</td>\n",
       "      <td>26.0</td>\n",
       "      <td>6399.0</td>\n",
       "      <td>1999.0</td>\n",
       "      <td>2662.0</td>\n",
       "      <td>3750.0</td>\n",
       "    </tr>\n",
       "  </tbody>\n",
       "</table>\n",
       "</div>"
      ],
      "text/plain": [
       "      count     len_mean      len_std  len_min  len_max  freq_fc  freq_lc  \\\n",
       "0   38918.0   878.717663   859.302990     12.0  18587.0   2400.0    900.0   \n",
       "1   36945.0   870.363676  1451.060541      9.0  57921.0   1141.0    900.0   \n",
       "2   31425.0  1014.429562   737.313693      2.0  41894.0   1580.0   2662.0   \n",
       "3   22133.0   784.774726   739.347231     17.0  10817.0   7346.0    900.0   \n",
       "4   15016.0   649.705647   718.689556     25.0  14928.0   1141.0    900.0   \n",
       "5   12232.0  1116.054938   910.002484     27.0  15839.0   5744.0    900.0   \n",
       "6    9985.0  1249.114071  1203.464887     16.0  25728.0   3659.0    900.0   \n",
       "7    8841.0  1157.883271   942.048602     11.0  14469.0   6835.0    900.0   \n",
       "8    7847.0   712.401172   898.704321      7.0  15271.0    913.0    900.0   \n",
       "9    5878.0   833.627084   739.593276     17.0  23866.0   7346.0    900.0   \n",
       "10   4920.0   911.138008   958.311796     14.0  20622.0   3523.0    885.0   \n",
       "11   3131.0   608.889812   509.755296     21.0   5729.0   6811.0    900.0   \n",
       "12   1821.0  1194.969248  1108.697967     25.0   8737.0   5006.0    900.0   \n",
       "13    908.0   735.325991   795.676666     26.0   6399.0   1999.0   2662.0   \n",
       "\n",
       "    freq_freq  \n",
       "0      3750.0  \n",
       "1      3750.0  \n",
       "2      3750.0  \n",
       "3      3750.0  \n",
       "4      3750.0  \n",
       "5      3750.0  \n",
       "6      3750.0  \n",
       "7      3750.0  \n",
       "8      3750.0  \n",
       "9      3750.0  \n",
       "10     3750.0  \n",
       "11     3750.0  \n",
       "12     3750.0  \n",
       "13     3750.0  "
      ]
     },
     "execution_count": 29,
     "metadata": {},
     "output_type": "execute_result"
    }
   ],
   "source": [
    "df_train_info = pd.DataFrame(columns=[\"count\", \"len_mean\", \"len_std\", \"len_min\", \"len_max\", \"freq_fc\", \"freq_lc\", \"freq_freq\"])\n",
    "for name, group in df_train.groupby(\"label\"):\n",
    "    count = len(group)\n",
    "    len_mean = np.mean(group[\"len\"])\n",
    "    len_std = np.std(group[\"len\"])\n",
    "    len_min = np.min(group[\"len\"])\n",
    "    len_max = np.max(group[\"len\"])\n",
    "    freq_fc = np.argmax(np.bincount(group[\"first_char\"]))\n",
    "    freq_lc = np.argmax(np.bincount(group[\"last_char\"]))\n",
    "    freq_freq = np.argmax(np.bincount(group[\"most_freq\"]))\n",
    "    df_train_info.loc[name] = [count, len_mean, len_std, len_min, len_max, freq_fc, freq_lc, freq_freq]\n",
    "df_train_info"
   ]
  },
  {
   "attachments": {},
   "cell_type": "markdown",
   "metadata": {},
   "source": [
    "类别分布"
   ]
  },
  {
   "cell_type": "code",
   "execution_count": 46,
   "metadata": {},
   "outputs": [
    {
     "data": {
      "image/png": "[encoded data removed]",
      "text/plain": [
       "<Figure size 640x480 with 1 Axes>"
      ]
     },
     "metadata": {},
     "output_type": "display_data"
    }
   ],
   "source": [
    "zhfont = FontProperties(fname=\"C:/Windows/Fonts/simsun.ttc\", size=14) # 用于设置中文字体属性\n",
    "label_2_index_dict = {'科技': 0, '股票': 1, '体育': 2, '娱乐': 3, '时政': 4, '社会': 5, '教育': 6, '财经': 7, '家居': 8, '游戏': 9, '房产': 10, '时尚': 11, '彩票': 12, '星座': 13}\n",
    "index_2_label_dict = {v: k for k, v in label_2_index_dict.items()}\n",
    "\n",
    "plt.figure()\n",
    "plt.bar(x=range(14), height=np.bincount(df_train[\"label\"]))\n",
    "plt.xlabel(\"label\")\n",
    "plt.ylabel(\"number of sample\")\n",
    "plt.xticks(range(14), list(index_2_label_dict.values()), fontproperties=zhfont, rotation=60)\n",
    "plt.show()"
   ]
  },
  {
   "attachments": {},
   "cell_type": "markdown",
   "metadata": {},
   "source": [
    "从统计结果可以看出:\n",
    "\n",
    "赛题的数据集类别分布存在较为不均匀的情况。在训练集中科技类新闻最多，其次是股票类新闻，最少的新闻是星座新闻。\n",
    "\n",
    "由于类别不均衡，会严重影响模型的精度。但是我们也是有办法应对的。"
   ]
  },
  {
   "attachments": {},
   "cell_type": "markdown",
   "metadata": {},
   "source": [
    "类别长度"
   ]
  },
  {
   "cell_type": "code",
   "execution_count": 47,
   "metadata": {},
   "outputs": [
    {
     "data": {
      "text/plain": [
       "([<matplotlib.axis.XTick at 0x1c5159a6780>,\n",
       "  <matplotlib.axis.XTick at 0x1c4c753e960>,\n",
       "  <matplotlib.axis.XTick at 0x1c515addac0>,\n",
       "  <matplotlib.axis.XTick at 0x1c515c472c0>,\n",
       "  <matplotlib.axis.XTick at 0x1c515c47230>,\n",
       "  <matplotlib.axis.XTick at 0x1c515c47620>,\n",
       "  <matplotlib.axis.XTick at 0x1c518517170>,\n",
       "  <matplotlib.axis.XTick at 0x1c515acfe90>,\n",
       "  <matplotlib.axis.XTick at 0x1c518520bc0>,\n",
       "  <matplotlib.axis.XTick at 0x1c51852ef00>,\n",
       "  <matplotlib.axis.XTick at 0x1c51852f590>,\n",
       "  <matplotlib.axis.XTick at 0x1c51853c260>,\n",
       "  <matplotlib.axis.XTick at 0x1c51853cd10>,\n",
       "  <matplotlib.axis.XTick at 0x1c51852f110>],\n",
       " [Text(0, 0, '科技'),\n",
       "  Text(1, 0, '股票'),\n",
       "  Text(2, 0, '体育'),\n",
       "  Text(3, 0, '娱乐'),\n",
       "  Text(4, 0, '时政'),\n",
       "  Text(5, 0, '社会'),\n",
       "  Text(6, 0, '教育'),\n",
       "  Text(7, 0, '财经'),\n",
       "  Text(8, 0, '家居'),\n",
       "  Text(9, 0, '游戏'),\n",
       "  Text(10, 0, '房产'),\n",
       "  Text(11, 0, '时尚'),\n",
       "  Text(12, 0, '彩票'),\n",
       "  Text(13, 0, '星座')])"
      ]
     },
     "execution_count": 47,
     "metadata": {},
     "output_type": "execute_result"
    },
    {
     "data": {
      "text/plain": [
       "<Figure size 640x480 with 0 Axes>"
      ]
     },
     "metadata": {},
     "output_type": "display_data"
    },
    {
     "data": {
      "image/png": "[encoded data removed]",
      "text/plain": [
       "<Figure size 511.111x500 with 1 Axes>"
      ]
     },
     "metadata": {},
     "output_type": "display_data"
    }
   ],
   "source": [
    "df_train[\"len\"] = df_train[\"text\"].apply(lambda x: len(x.split()))\n",
    "plt.figure()\n",
    "ax = sns.catplot(x=\"label\", y=\"len\", data=df_train, kind=\"strip\")\n",
    "plt.xticks(range(14), list(index_2_label_dict.values()), fontproperties=zhfont, rotation=60)"
   ]
  },
  {
   "attachments": {},
   "cell_type": "markdown",
   "metadata": {},
   "source": [
    "不同类别的文章长度不同，可以把长度作为一个Feature，以供机器学习模型训练"
   ]
  },
  {
   "attachments": {},
   "cell_type": "markdown",
   "metadata": {},
   "source": [
    "字符分布\n",
    "\n",
    "训练集中总共包括6869个字，最大数字为7549，最小数字为0，其中编号3750的字出现的次数最多，编号3133的字出现的次数最少，仅出现一次。"
   ]
  },
  {
   "cell_type": "code",
   "execution_count": null,
   "metadata": {},
   "outputs": [],
   "source": [
    "# 内存警告！！！没有8G内存不要运行该代码\n",
    "all_lines = ' '.join(list(df_train['text']))\n",
    "word_count = Counter(all_lines.split(\" \"))\n",
    "word_count = sorted(word_count.items(), key=lambda d:d[1], reverse=True)\n",
    "\n",
    "print(len(word_count))\n",
    "# 6869\n",
    "\n",
    "print(word_count[0])\n",
    "# ('3750', 7482224)\n",
    "\n",
    "print(word_count[-1])\n",
    "# ('3133', 1)"
   ]
  },
  {
   "attachments": {},
   "cell_type": "markdown",
   "metadata": {},
   "source": [
    "下面代码统计了不同字符在多少个句子中出现过，其中字符3750、字符900和字符648在20w新闻的覆盖率接近99%，很有可能是标点符号。"
   ]
  },
  {
   "cell_type": "code",
   "execution_count": null,
   "metadata": {},
   "outputs": [],
   "source": [
    "%%time\n",
    "df_train['text_unique'] = df_train['text'].apply(lambda x: ' '.join(list(set(x.split(' ')))))\n",
    "all_lines = ' '.join(list(df_train['text_unique']))\n",
    "word_count = Counter(all_lines.split(\" \"))\n",
    "word_count = sorted(word_count.items(), key=lambda d:int(d[1]), reverse=True)\n",
    "# 打印整个训练集中覆盖率前5的词\n",
    "for i in range(5):\n",
    "    print(\"{} occurs {} times, {}%\".format(word_count[i][0], word_count[i][1], (word_count[i][1]/200000)*100))"
   ]
  },
  {
   "attachments": {},
   "cell_type": "markdown",
   "metadata": {},
   "source": [
    "分析总结\n",
    "\n",
    "1、训练集共200,000条新闻，每条新闻平均907个字符，最短的句子长度为2，最长的句子长度为57921，其中75%以下的数据长度在1131以下。测试集共50,000条新闻，每条新闻平均909个字符，最短句子长度为14，最长句子41861,75%以下的数据长度在1133以下。\n",
    "\n",
    "2、训练集和测试集就长度来说似乎是同一分布，但是不属于正态分布。\n",
    "\n",
    "3、赛题的数据集类别分布存在较为不均匀的情况。在训练集中科技类新闻最多，其次是股票类新闻，最少的新闻是星座新闻。需要用采样方法解决。文章最长的是股票类新闻。不同类别的文章长度不同，可以把长度和句子个数作为一个Feature，以供机器学习模型训练。\n",
    "\n",
    "4、训练集中总共包括6869个字，最大数字为7549，最小数字为0，其中编号3750的字出现的次数最多，编号3133的字出现的次数最少，仅出现一次，其中字符3750、字符900和字符648在20w新闻的覆盖率接近99%，很有可能是标点符号。\n",
    "\n",
    "5、900很有可能是句号，2662和885则很有可能为感叹号和问号，3750出现频率很高但是基本不在新闻最后出现，因此初步判断为逗号。按照这种划分，训练集中每条新闻平均句子个数约为19。\n",
    "\n",
    "6、在训练集中，不同类别新闻出现词汇有特色。但是需要把共有的常用词停用。自然想到利用TF-IDF编码方式。"
   ]
  },
  {
   "cell_type": "code",
   "execution_count": null,
   "metadata": {},
   "outputs": [],
   "source": []
  }
 ],
 "metadata": {
  "kernelspec": {
   "display_name": "transformers",
   "language": "python",
   "name": "python3"
  },
  "language_info": {
   "codemirror_mode": {
    "name": "ipython",
    "version": 3
   },
   "file_extension": ".py",
   "mimetype": "text/x-python",
   "name": "python",
   "nbconvert_exporter": "python",
   "pygments_lexer": "ipython3",
   "version": "3.12.11"
  },
  "orig_nbformat": 4
 },
 "nbformat": 4,
 "nbformat_minor": 2
}
